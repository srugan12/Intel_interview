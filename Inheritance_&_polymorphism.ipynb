{
  "nbformat": 4,
  "nbformat_minor": 0,
  "metadata": {
    "colab": {
      "name": "Inheritance & polymorphism.ipynb",
      "provenance": [],
      "authorship_tag": "ABX9TyNaEslBhNy+wtIPPbfAvo1w",
      "include_colab_link": true
    },
    "kernelspec": {
      "name": "python3",
      "display_name": "Python 3"
    },
    "language_info": {
      "name": "python"
    }
  },
  "cells": [
    {
      "cell_type": "markdown",
      "metadata": {
        "id": "view-in-github",
        "colab_type": "text"
      },
      "source": [
        "<a href=\"https://colab.research.google.com/github/srugan12/Intel_interview/blob/main/Inheritance_%26_polymorphism.ipynb\" target=\"_parent\"><img src=\"https://colab.research.google.com/assets/colab-badge.svg\" alt=\"Open In Colab\"/></a>"
      ]
    },
    {
      "cell_type": "markdown",
      "source": [
        "Demonstration of Inheritance and polymorphism"
      ],
      "metadata": {
        "id": "zSWd5CxJsuH_"
      }
    },
    {
      "cell_type": "code",
      "source": [
        "class AccountInfo:\n",
        "  ''' Base class which takes account information, which is then inherited by\n",
        "  derived classes to calculate interest. The class is inherited by two derived\n",
        "  classes for calculating simple interest and compound interest. '''\n",
        "  def __init__(self):\n",
        "    self.principal = 0\n",
        "    self.rate = 0\n",
        "    self.time = 0 \n",
        "    self.compounding_time = 0\n",
        "\n",
        "  def getDetails(self):\n",
        "   self.principal = float(input(\"Enter principal: \"))\n",
        "   self.rate = float(input(\"Enter rate: \"))\n",
        "   self.time = float(input(\"Enter time: \"))\n",
        "   self.compounding_time = float(input(\"Enter compounding time(0 for SI): \"))"
      ],
      "metadata": {
        "id": "W-HYTgdAe3jg"
      },
      "execution_count": 1,
      "outputs": []
    },
    {
      "cell_type": "code",
      "source": [
        "class SimpleInterest(AccountInfo):\n",
        "  ''' Derived class 1 that inherts the attributes and methods of AccountInfo \n",
        "  class. Thus, the methods of the parent class can be called by the instance \n",
        "  created for this derived class.  '''\n",
        "  def __init__(self):\n",
        "    AccountInfo.__init__(self)\n",
        "\n",
        "  def findInterest(self):\n",
        "    amount = self.principal * (1 + (self.rate * self.time))   #calculating simple interest\n",
        "    return amount "
      ],
      "metadata": {
        "id": "oU5KLAWde3bK"
      },
      "execution_count": 2,
      "outputs": []
    },
    {
      "cell_type": "code",
      "source": [
        "class CompoundInterest(AccountInfo):\n",
        "  ''' Derived class 2 '''\n",
        "  def __init__(self):\n",
        "      AccountInfo.__init__(self)\n",
        "\n",
        "  def findInterest(self):\n",
        "    ''' Polymorphism is demonstrated here. The method, already declared in \n",
        "    the SI class, is redeclared here with the same name. Thus, 'findInterest' \n",
        "    can be interpreted in different ways, depending on the object of the class\n",
        "    referencing it '''\n",
        "    amount = self.principal * ((1 + (self.rate/self.compounding_time))**(self.time * self.compounding_time)) #calculating compound interest\n",
        "    return amount"
      ],
      "metadata": {
        "id": "kO34FDQIplVF"
      },
      "execution_count": 3,
      "outputs": []
    },
    {
      "cell_type": "code",
      "source": [
        "S = SimpleInterest()\n",
        "S.getDetails()\n",
        "S.findInterest()    # Object of SimpleInterest calling the findInterest method"
      ],
      "metadata": {
        "colab": {
          "base_uri": "https://localhost:8080/"
        },
        "id": "DwYGBZr_e3Th",
        "outputId": "a3ed2828-390e-41e6-d2ff-1549877dd574"
      },
      "execution_count": 4,
      "outputs": [
        {
          "name": "stdout",
          "output_type": "stream",
          "text": [
            "Enter principal: 1200\n",
            "Enter rate: 5\n",
            "Enter time: 4\n",
            "Enter compounding time(0 for SI): 0\n"
          ]
        },
        {
          "output_type": "execute_result",
          "data": {
            "text/plain": [
              "25200.0"
            ]
          },
          "metadata": {},
          "execution_count": 4
        }
      ]
    },
    {
      "cell_type": "code",
      "source": [
        "C = CompoundInterest()\n",
        "C.getDetails()\n",
        "C.findInterest()    # Object of CompoundInterest calling the findInterest method"
      ],
      "metadata": {
        "colab": {
          "base_uri": "https://localhost:8080/"
        },
        "id": "0aVJPWUfe3ID",
        "outputId": "26361217-6ba9-4abf-ac72-3002e427ede9"
      },
      "execution_count": 5,
      "outputs": [
        {
          "name": "stdout",
          "output_type": "stream",
          "text": [
            "Enter principal: 1200\n",
            "Enter rate: 5\n",
            "Enter time: 4\n",
            "Enter compounding time(0 for SI): 2\n"
          ]
        },
        {
          "output_type": "execute_result",
          "data": {
            "text/plain": [
              "27022504.6875"
            ]
          },
          "metadata": {},
          "execution_count": 5
        }
      ]
    }
  ]
}