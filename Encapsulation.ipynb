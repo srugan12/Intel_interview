{
  "nbformat": 4,
  "nbformat_minor": 0,
  "metadata": {
    "colab": {
      "name": "Encapsulation.ipynb",
      "provenance": [],
      "collapsed_sections": [],
      "authorship_tag": "ABX9TyM1LAwzrAX6NitFOkORs6Pb",
      "include_colab_link": true
    },
    "kernelspec": {
      "name": "python3",
      "display_name": "Python 3"
    },
    "language_info": {
      "name": "python"
    }
  },
  "cells": [
    {
      "cell_type": "markdown",
      "metadata": {
        "id": "view-in-github",
        "colab_type": "text"
      },
      "source": [
        "<a href=\"https://colab.research.google.com/github/srugan12/Intel_interview/blob/main/Encapsulation.ipynb\" target=\"_parent\"><img src=\"https://colab.research.google.com/assets/colab-badge.svg\" alt=\"Open In Colab\"/></a>"
      ]
    },
    {
      "cell_type": "markdown",
      "source": [
        "Demonstration of encapsulation"
      ],
      "metadata": {
        "id": "yHbNK57Q-dh8"
      }
    },
    {
      "cell_type": "code",
      "execution_count": 25,
      "metadata": {
        "id": "nh3jeaOntwEs"
      },
      "outputs": [],
      "source": [
        "import numpy as np\n",
        "import pandas as pd\n",
        "from sklearn import datasets\n",
        "from sklearn.linear_model import LinearRegression\n",
        "from sklearn.model_selection import train_test_split\n",
        "from sklearn.preprocessing import PolynomialFeatures\n",
        "from sklearn.neural_network import MLPRegressor"
      ]
    },
    {
      "cell_type": "code",
      "source": [
        "iris = datasets.load_iris() # In-built dataset in python"
      ],
      "metadata": {
        "id": "z5puEvwswPCC"
      },
      "execution_count": 26,
      "outputs": []
    },
    {
      "cell_type": "code",
      "source": [
        "class ML_models:\n",
        "  ''' Machine learning models grouped together under 'ML_models' class. This exhibits \n",
        "  encapsulation by bundling up data and methods under a single unit(class). Different\n",
        "  ML models that use same feature vector (denoted by X) to predict the Sepal length\n",
        "  (denoted by Y) of the iris flower are declared as different methods under one class.'''\n",
        "\n",
        "  def __init__(self,iris):\n",
        "    # __init__ is a constructor for the class which is used to initiate attributes of the class\n",
        "    self.iris_df = pd.DataFrame(data= iris.data, columns= iris.feature_names)\n",
        "    self.X= self.iris_df.drop(labels= 'sepal length (cm)', axis= 1)\n",
        "    self.y= self.iris_df['sepal length (cm)']\n",
        "\n",
        "  def linear_reg(self):\n",
        "    print('Linear regressor')\n",
        "    ########################### Training and testing with Linear Regression ############################\n",
        "    X_train, X_test, Y_train, Y_test = train_test_split(self.X, self.y, test_size=0.25, random_state=123)\n",
        "    regressor = LinearRegression()\n",
        "    regressor.fit(X_train,Y_train)\n",
        "    y_pred = regressor.predict(X_test)\n",
        "    return regressor.coef_, regressor.intercept_\n",
        "\n",
        "  def polynomial_reg(self, degree):\n",
        "    print('Polynomial regressor')\n",
        "    ########################## Training and testing with Polynomial Regression ##########################\n",
        "    X_train, X_test, Y_train, Y_test = train_test_split(self.X, self.y, test_size=0.25, random_state=123)\n",
        "    poly_reg = PolynomialFeatures(degree = 2)\n",
        "    X_poly = poly_reg.fit_transform(X_train)\n",
        "    regressor_2 = LinearRegression()\n",
        "    regressor_2.fit(X_poly,Y_train)\n",
        "    y_pred = regressor_2.predict(X_test)\n",
        "    return regressor_2.coef_, regressor_2.intercept_\n",
        "\n",
        "  def NN_MLP(self):\n",
        "    print('Multi-layer Perceptron regressor')\n",
        "    ##################### Training and testing with Multi-layer Perceptron regressor ######################\n",
        "    X_train, X_test, Y_train, Y_test = train_test_split(self.X, self.y, test_size=0.25, random_state=123)\n",
        "    MLP_reg = MLPRegressor(random_state=1, max_iter=500)\n",
        "    MLP_reg.fit(X_train, Y_train)\n",
        "    y_pred = MLP_reg.predict(X_test)\n",
        "    return MLP_reg.score(X_test, Y_test)\n"
      ],
      "metadata": {
        "id": "32xxRj_zvbQu"
      },
      "execution_count": 27,
      "outputs": []
    },
    {
      "cell_type": "code",
      "source": [
        "ML = ML_models(iris)  # Creating an instance of the class \n",
        "ML.NN_MLP()       # Calling MLP method on the iris dataset"
      ],
      "metadata": {
        "colab": {
          "base_uri": "https://localhost:8080/"
        },
        "id": "IpyVHWpN6UIX",
        "outputId": "a7a3edc3-f6d2-4295-dcee-07ba228a8c2e"
      },
      "execution_count": 28,
      "outputs": [
        {
          "output_type": "stream",
          "name": "stdout",
          "text": [
            "Multi-layer Perceptron regressor\n"
          ]
        },
        {
          "output_type": "execute_result",
          "data": {
            "text/plain": [
              "0.8689241884487621"
            ]
          },
          "metadata": {},
          "execution_count": 28
        }
      ]
    }
  ]
}
