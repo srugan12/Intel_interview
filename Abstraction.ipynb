{
  "nbformat": 4,
  "nbformat_minor": 0,
  "metadata": {
    "colab": {
      "name": "Abstraction.ipynb",
      "provenance": [],
      "collapsed_sections": [],
      "authorship_tag": "ABX9TyPzJmCFymJ6zv3ERSU1d/nE",
      "include_colab_link": true
    },
    "kernelspec": {
      "name": "python3",
      "display_name": "Python 3"
    },
    "language_info": {
      "name": "python"
    }
  },
  "cells": [
    {
      "cell_type": "markdown",
      "metadata": {
        "id": "view-in-github",
        "colab_type": "text"
      },
      "source": [
        "<a href=\"https://colab.research.google.com/github/srugan12/Intel_interview/blob/main/Abstraction.ipynb\" target=\"_parent\"><img src=\"https://colab.research.google.com/assets/colab-badge.svg\" alt=\"Open In Colab\"/></a>"
      ]
    },
    {
      "cell_type": "markdown",
      "source": [
        "Demonstration of Abstraction "
      ],
      "metadata": {
        "id": "tNMtsZN-Z61E"
      }
    },
    {
      "cell_type": "code",
      "execution_count": 9,
      "metadata": {
        "id": "FX-mdt-SQ9eF",
        "colab": {
          "base_uri": "https://localhost:8080/",
          "height": 70
        },
        "outputId": "45172822-db8b-4879-b982-b6766951bfc5"
      },
      "outputs": [
        {
          "output_type": "execute_result",
          "data": {
            "text/plain": [
              "' ABC is a built in module of python which provides skeleton for implementing \\nabstract base class. @abstractmethod is the decorator which is used to indicate \\nthat the method must be overridden in derived class. Python will raise expection \\nif the method indicated by the decorator is not defined in the base class '"
            ],
            "application/vnd.google.colaboratory.intrinsic+json": {
              "type": "string"
            }
          },
          "metadata": {},
          "execution_count": 9
        }
      ],
      "source": [
        "from abc import ABC, abstractmethod\n",
        "''' ABC is a built in module of python which provides skeleton for implementing \n",
        "abstract base class. @abstractmethod is the decorator which is used to indicate \n",
        "that the method must be overridden in derived class. Python will raise expection \n",
        "if the method indicated by the decorator is not defined in the base class '''"
      ]
    },
    {
      "cell_type": "code",
      "source": [
        "class Book(ABC):       \n",
        "  ''' Base class 'book' to demonstrate abstraction. The base class indicates\n",
        "  all the required methods to describe a book. The derived classes, upon \n",
        "  inherting the base class (book), will have a knowledge of what to define \n",
        "  without the need for remembering the methods '''\n",
        "  @abstractmethod       \n",
        "  def fullTitle(self):\n",
        "    print(\"Prints the title of the book\")\n",
        "  @abstractmethod\n",
        "  def author(self):\n",
        "    print(\"Prints the author of the book\")\n",
        "  @abstractmethod\n",
        "  def genre(self):\n",
        "    print(\"Prints the genre of the book\")\n",
        "  @abstractmethod\n",
        "  def isAvailable(self):\n",
        "    print(\"Prints whether the book is available or not\")\n",
        "\n",
        "class Hitch(Book):   \n",
        "  '''Derived class 1 - inherts the abstract class and modifies the method accordingly'''\n",
        "  def fullTitle(self):\n",
        "    print(\"Book: The Hitchhiker's Guide to the Galaxy\")\n",
        "  def author(self):\n",
        "    print(\"Author: Douglas Adams\")\n",
        "  def genre(self):\n",
        "    print(\"Genre: Sci-Fi, Humor, Novel\")\n",
        "  def isAvailable(self):\n",
        "    print(\"Availability: Unavailable\") \n",
        "\n",
        "class Alchemist(Book):   \n",
        "  '''Derived class 2 '''\n",
        "  def fullTitle(self):\n",
        "    print(\"Book: The Alchemist\")\n",
        "  def author(self):\n",
        "    print(\"Author: Paulo Coelho\")\n",
        "  def genre(self):\n",
        "    print(\"Genre: Fantasy Fiction, Drama, Novel\")\n",
        "  def IsAvailable(self):\n",
        "    print(\"Availability: Available\")  \n",
        "\n",
        "class Kaiju(Book):   \n",
        "  '''Derived class 3 '''\n",
        "  def fullTitle(self):\n",
        "    print(\"Book: The Kajiu Preservation Society\")\n",
        "  def author(self):\n",
        "    print(\"Author: John Scalzi\")\n",
        "  def genre(self):\n",
        "    print(\"Genre: Sci-Fi, Fantasy, Historic\")\n",
        "  def isAvailable(self):\n",
        "    print(\"Availability: Available\")   "
      ],
      "metadata": {
        "id": "9fIDLdFeRYXc"
      },
      "execution_count": 10,
      "outputs": []
    },
    {
      "cell_type": "code",
      "source": [
        "k = Kaiju()\n",
        "k.fullTitle() \n",
        "k.genre()\n",
        "k.isAvailable()"
      ],
      "metadata": {
        "colab": {
          "base_uri": "https://localhost:8080/"
        },
        "id": "C2xSC8diRt7Z",
        "outputId": "cce6ab5a-19c5-431f-d296-4c8ca452260c"
      },
      "execution_count": 11,
      "outputs": [
        {
          "output_type": "stream",
          "name": "stdout",
          "text": [
            "Book: The Kajiu Preservation Society\n",
            "Genre: Sci-Fi, Fantasy, Historic\n",
            "Availability: Available\n"
          ]
        }
      ]
    },
    {
      "cell_type": "code",
      "source": [
        "# Throws an error because abstract class cannot be instantiated with an object \n",
        "# since it serves the purpose of being an infrastructure for derived classes\n",
        "b = Book()\n",
        "b.fullTitle() "
      ],
      "metadata": {
        "colab": {
          "base_uri": "https://localhost:8080/",
          "height": 218
        },
        "id": "j5aG5QUndTL2",
        "outputId": "773e38a4-45d3-4b20-e152-57935fe309a4"
      },
      "execution_count": 12,
      "outputs": [
        {
          "output_type": "error",
          "ename": "TypeError",
          "evalue": "ignored",
          "traceback": [
            "\u001b[0;31m---------------------------------------------------------------------------\u001b[0m",
            "\u001b[0;31mTypeError\u001b[0m                                 Traceback (most recent call last)",
            "\u001b[0;32m<ipython-input-12-f44329120912>\u001b[0m in \u001b[0;36m<module>\u001b[0;34m()\u001b[0m\n\u001b[1;32m      1\u001b[0m \u001b[0;31m# Throws an error because abstract class cannot be instantiated with an object\u001b[0m\u001b[0;34m\u001b[0m\u001b[0;34m\u001b[0m\u001b[0;34m\u001b[0m\u001b[0m\n\u001b[1;32m      2\u001b[0m \u001b[0;31m# since it serves the purpose of being an infrastructure for base classes\u001b[0m\u001b[0;34m\u001b[0m\u001b[0;34m\u001b[0m\u001b[0;34m\u001b[0m\u001b[0m\n\u001b[0;32m----> 3\u001b[0;31m \u001b[0mb\u001b[0m \u001b[0;34m=\u001b[0m \u001b[0mBook\u001b[0m\u001b[0;34m(\u001b[0m\u001b[0;34m)\u001b[0m\u001b[0;34m\u001b[0m\u001b[0;34m\u001b[0m\u001b[0m\n\u001b[0m\u001b[1;32m      4\u001b[0m \u001b[0mb\u001b[0m\u001b[0;34m.\u001b[0m\u001b[0mfullTitle\u001b[0m\u001b[0;34m(\u001b[0m\u001b[0;34m)\u001b[0m\u001b[0;34m\u001b[0m\u001b[0;34m\u001b[0m\u001b[0m\n",
            "\u001b[0;31mTypeError\u001b[0m: Can't instantiate abstract class Book with abstract methods author, fullTitle, genre, isAvailable"
          ]
        }
      ]
    }
  ]
}
