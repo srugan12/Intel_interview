{
  "nbformat": 4,
  "nbformat_minor": 0,
  "metadata": {
    "colab": {
      "name": "Abstraction.ipynb",
      "provenance": [],
      "collapsed_sections": []
    },
    "kernelspec": {
      "name": "python3",
      "display_name": "Python 3"
    },
    "language_info": {
      "name": "python"
    }
  },
  "cells": [
    {
      "cell_type": "markdown",
      "source": [
        "Demonstration of Abstraction "
      ],
      "metadata": {
        "id": "tNMtsZN-Z61E"
      }
    },
    {
      "cell_type": "code",
      "execution_count": 1,
      "metadata": {
        "id": "FX-mdt-SQ9eF"
      },
      "outputs": [],
      "source": [
        "from abc import ABC, abstractmethod\n",
        "''' ABC is a built in module of python which provides skeleton for implementing \n",
        "abstract base class. @abstractmethod is the decorator which is used to indicate \n",
        "that the method must be overridden in derived class. Python will raise expection \n",
        "if the method indicated by the decorator is not defined in the base class '''"
      ]
    },
    {
      "cell_type": "code",
      "source": [
        "class Book(ABC):       \n",
        "  ''' Base class 'book' to demonstrate abstraction. The base class indicates\n",
        "  all the required methods to describe a book. The derived classes, upon \n",
        "  inherting the base class (book), will have a knowledge of what to define \n",
        "  without the need for remembering the methods '''\n",
        "  @abstractmethod       \n",
        "  def FullTitle(self):\n",
        "    print(\"Prints the title of the book\")\n",
        "  @abstractmethod\n",
        "  def Author(self):\n",
        "    print(\"Prints the author of the book\")\n",
        "  @abstractmethod\n",
        "  def Genre(self):\n",
        "    print(\"Prints the genre of the book\")\n",
        "  @abstractmethod\n",
        "  def IsAvailable(self):\n",
        "    print(\"Prints whether the book is available or not\")\n",
        "\n",
        "class Hitch(Book):   \n",
        "  '''Derived class 1 - inherts the abstract class and modifies the method accordingly'''\n",
        "  def FullTitle(self):\n",
        "    print(\"Book: The Hitchhiker's Guide to the Galaxy\")\n",
        "  def Author(self):\n",
        "    print(\"Author: Douglas Adams\")\n",
        "  def Genre(self):\n",
        "    print(\"Genre: Sci-Fi, Humor, Novel\")\n",
        "  def IsAvailable(self):\n",
        "    print(\"Availability: Unavailable\") \n",
        "\n",
        "class Alchemist(Book):   \n",
        "  '''Derived class 2 '''\n",
        "  def FullTitle(self):\n",
        "    print(\"Book: The Alchemist\")\n",
        "  def Author(self):\n",
        "    print(\"Author: Paulo Coelho\")\n",
        "  def Genre(self):\n",
        "    print(\"Genre: Fantasy Fiction, Drama, Novel\")\n",
        "  def IsAvailable(self):\n",
        "    print(\"Availability: Available\")  \n",
        "\n",
        "class Kaiju(Book):   \n",
        "  '''Derived class 3 '''\n",
        "  def FullTitle(self):\n",
        "    print(\"Book: The Kajiu Preservation Society\")\n",
        "  def Author(self):\n",
        "    print(\"Author: John Scalzi\")\n",
        "  def Genre(self):\n",
        "    print(\"Genre: Sci-Fi, Fantasy, Historic\")\n",
        "  def IsAvailable(self):\n",
        "    print(\"Availability: Available\")   "
      ],
      "metadata": {
        "id": "9fIDLdFeRYXc"
      },
      "execution_count": 4,
      "outputs": []
    },
    {
      "cell_type": "code",
      "source": [
        "k = Kaiju()\n",
        "k.FullTitle() \n",
        "k.Genre()\n",
        "k.IsAvailable()"
      ],
      "metadata": {
        "colab": {
          "base_uri": "https://localhost:8080/"
        },
        "id": "C2xSC8diRt7Z",
        "outputId": "44c7f17d-83a5-49de-b157-8379d64207fd"
      },
      "execution_count": 7,
      "outputs": [
        {
          "output_type": "stream",
          "name": "stdout",
          "text": [
            "Book: The Kajiu Preservation Society\n",
            "Genre: Sci-Fi, Fantasy, Historic\n",
            "Availability: Available\n"
          ]
        }
      ]
    },
    {
      "cell_type": "code",
      "source": [
        "# Throws an error because abstract class cannot be instantiated with an object \n",
        "# since it serves the purpose of being an infrastructure for base classes\n",
        "b = Book()\n",
        "b.FullTitle() "
      ],
      "metadata": {
        "colab": {
          "base_uri": "https://localhost:8080/",
          "height": 183
        },
        "id": "j5aG5QUndTL2",
        "outputId": "fe4d1ffd-7886-4742-eaa2-220ec07b7a0b"
      },
      "execution_count": 8,
      "outputs": [
        {
          "output_type": "error",
          "ename": "TypeError",
          "evalue": "ignored",
          "traceback": [
            "\u001b[0;31m---------------------------------------------------------------------------\u001b[0m",
            "\u001b[0;31mTypeError\u001b[0m                                 Traceback (most recent call last)",
            "\u001b[0;32m<ipython-input-8-7d4e3ce97b90>\u001b[0m in \u001b[0;36m<module>\u001b[0;34m()\u001b[0m\n\u001b[0;32m----> 1\u001b[0;31m \u001b[0mb\u001b[0m \u001b[0;34m=\u001b[0m \u001b[0mbook\u001b[0m\u001b[0;34m(\u001b[0m\u001b[0;34m)\u001b[0m\u001b[0;34m\u001b[0m\u001b[0;34m\u001b[0m\u001b[0m\n\u001b[0m\u001b[1;32m      2\u001b[0m \u001b[0mb\u001b[0m\u001b[0;34m.\u001b[0m\u001b[0mFullTitle\u001b[0m\u001b[0;34m(\u001b[0m\u001b[0;34m)\u001b[0m\u001b[0;34m\u001b[0m\u001b[0;34m\u001b[0m\u001b[0m\n",
            "\u001b[0;31mTypeError\u001b[0m: Can't instantiate abstract class book with abstract methods FullTitle, IsAvailable, author, genre"
          ]
        }
      ]
    }
  ]
}
